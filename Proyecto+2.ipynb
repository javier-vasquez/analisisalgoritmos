{
 "cells": [
  {
   "cell_type": "markdown",
   "metadata": {
    "collapsed": false
   },
   "source": [
    "<center><h1>PROYECTO ANALISIS DE ALGORITMOS <br> Javier Felipe Vasquez Roldan</h1></center>"
   ]
  },
  {
   "cell_type": "markdown",
   "metadata": {
    "collapsed": true
   },
   "source": [
    "<h2>MST Grafos de Aristas Rojas y Azules</h2>"
   ]
  },
  {
   "cell_type": "code",
   "execution_count": 125,
   "metadata": {
    "collapsed": true
   },
   "outputs": [],
   "source": [
    "class Node:\n",
    "    def __init__(self, distance, color):\n",
    "        self.d = distance\n",
    "        self.c = color\n",
    "        \n",
    "class Parent:\n",
    "    def __init__(self, parent, color):\n",
    "        self.p = parent\n",
    "        self.c = color"
   ]
  },
  {
   "cell_type": "code",
   "execution_count": 127,
   "metadata": {
    "collapsed": false
   },
   "outputs": [],
   "source": [
    "import numpy as np\n",
    "import math\n",
    "import sys\n",
    "\n",
    "\n",
    "inf = math.inf\n",
    "\n",
    "f = open(\"input_n8_b5_r2\",\"r\") \n",
    "\n",
    "\n",
    "for i,line in enumerate(f):\n",
    "    if i==0:\n",
    "        n_nodes= int(line)\n",
    "        nodes = [[Node(inf,\"N\") for j in range(n_nodes)] for i in range(n_nodes)] \n",
    "    elif i==1:\n",
    "        blue_arists = int(line)\n",
    "    else:\n",
    "        for j,part in enumerate(line.split()):\n",
    "            if part!=\"Inf\":\n",
    "                nodes[i-2][j+i-2]=Node(int(part.split(\"/\")[0]),part.split(\"/\")[1])\n",
    "                nodes[j+i-2][i-2]=Node(int(part.split(\"/\")[0]),part.split(\"/\")[1])\n",
    "\n",
    "\n",
    "V = n_nodes\n",
    "parent = [Node(0,\"N\") for i in range(V)]\n",
    "key = [sys.maxsize for i in range(V)]\n",
    "mstSet = [0 for i in range(V)]\n",
    "\n",
    "    \n",
    "def minKey(key,mstSet):\n",
    "    min = sys.maxsize\n",
    " \n",
    "    for v in range (V):\n",
    "        if mstSet[v] == 0 and key[v] < min:\n",
    "            min = key[v]\n",
    "            min_index = v\n",
    "    return min_index;\n",
    "\n",
    " \n",
    "def imprimir(parent, n, graph):\n",
    "    sum = 0 \n",
    "    for i in range (1,V):\n",
    "        sum = sum + graph[i][parent[i].p].d\n",
    "    print (sum)\n",
    "    for i in range (1,V):\n",
    "        if parent[i].c==\"B\":\n",
    "            print ( \"(\",parent[i].p,\",\", i,\")\",end='')\n",
    "    print(\"\")\n",
    "    for i in range (1,V):\n",
    "        if parent[i].c==\"R\":\n",
    "            print ( \"(\",parent[i].p,\",\", i,\")\",end='')\n",
    "        #,graph[i][parent[i].p].d,\"/\",parent[i].c\n",
    "\n",
    "def primMST(graph,max_blues,faltantes):\n",
    "    V = n_nodes\n",
    "    parent = [Node(0,\"N\") for i in range(V)]\n",
    "    key = [sys.maxsize for i in range(V)]\n",
    "    mstSet = [0 for i in range(V)]\n",
    "    key[0] = 0\n",
    "    parent[0] = Parent(-1,\"N\")\n",
    "    blues = 0\n",
    "\n",
    "    for count in range (V):\n",
    "        u = minKey(key, mstSet)\n",
    "        mstSet[u] = 1\n",
    "        for v in range (V):\n",
    "            if mstSet[v] == 0 and graph[u][v].d <  key[v]:\n",
    "                if faltantes == 0:\n",
    "                    parent[v]  = Parent(u,graph[u][v].c)\n",
    "                    key[v] = graph[u][v].d\n",
    "                else:\n",
    "                    if graph[u][v].c == \"B\":\n",
    "                        parent[v]  = Parent(u,graph[u][v].c)\n",
    "                        key[v] = graph[u][v].d\n",
    "                        faltantes=faltantes-1\n",
    "                \n",
    "    for i in range (1,V):\n",
    "        if parent[i].c==\"B\":\n",
    "            blues = blues+1\n",
    "    if blues<max_blues:\n",
    "        faltantes = max_blues-blues\n",
    "        primMST(graph,max_blues,faltantes)\n",
    "    else:\n",
    "        imprimir(parent, V, graph)\n",
    "\n",
    "\n"
   ]
  },
  {
   "cell_type": "code",
   "execution_count": 128,
   "metadata": {
    "collapsed": false
   },
   "outputs": [
    {
     "name": "stdout",
     "output_type": "stream",
     "text": [
      "22\n",
      "( 4 , 2 )( 1 , 3 )( 0 , 4 )( 2 , 6 )( 6 , 7 )\n",
      "( 2 , 1 )( 1 , 5 )"
     ]
    }
   ],
   "source": [
    "primMST(nodes,blue_arists,0)"
   ]
  },
  {
   "cell_type": "markdown",
   "metadata": {},
   "source": [
    "<h2>K- Tiendas</h2>"
   ]
  },
  {
   "cell_type": "code",
   "execution_count": 80,
   "metadata": {
    "collapsed": false
   },
   "outputs": [
    {
     "name": "stdout",
     "output_type": "stream",
     "text": [
      "[[inf, 6, 20, 2], [6, inf, 9, 19], [20, 9, inf, 18], [2, 19, 18, inf]]\n",
      "['A', 'B', 'C', 'D']\n"
     ]
    }
   ],
   "source": [
    "import numpy as np\n",
    "import math\n",
    "import sys\n",
    "\n",
    "\n",
    "inf = math.inf\n",
    "\n",
    "f = open(\"input_n5_k2.txt\",\"r\") \n",
    "\n",
    "\n",
    "for i,line in enumerate(f):\n",
    "    if i==0:\n",
    "        k= int(line)\n",
    "    else:\n",
    "        if i==1:\n",
    "            size = len(line.split())-1\n",
    "            matrix = [[inf for j in range(size)] for i in range(size)]\n",
    "            names = [\"x\" for j in range(size)]\n",
    "        for j,part in enumerate(line.split()):\n",
    "            if j==0:\n",
    "                names[i-1] = part\n",
    "            else:\n",
    "                if part!=\"0\":\n",
    "                    matrix[i-1][j-1]=int(part)\n",
    "                \n",
    "print (matrix)\n",
    "print (names)\n",
    "\n",
    "\n",
    "\n",
    "for i in range (size):\n",
    "    for j in range (size):\n",
    "        if()\n",
    "        cost = cost + matrix[i][j]\n",
    "               \n"
   ]
  },
  {
   "cell_type": "markdown",
   "metadata": {},
   "source": [
    "<h1> Cliques en Grafos </h1>\n",
    "\n",
    "<p>Se usa una libreria llamada Networkx la cual maneja la creacion de los grafos y encuentra los cliques </p>"
   ]
  },
  {
   "cell_type": "code",
   "execution_count": 121,
   "metadata": {
    "collapsed": false
   },
   "outputs": [
    {
     "name": "stdout",
     "output_type": "stream",
     "text": [
      "[['0001', '1001'], ['0001', '0101'], ['0001', '0000'], ['0001', '0011'], ['0111', '1111'], ['0111', '0101'], ['0111', '0110'], ['0111', '0011'], ['0100', '0101'], ['0100', '0110'], ['0100', '0000'], ['0100', '1100'], ['1000', '1010'], ['1000', '1001'], ['1000', '0000'], ['1000', '1100'], ['1101', '1111'], ['1101', '0101'], ['1101', '1001'], ['1101', '1100'], ['1110', '1111'], ['1110', '1010'], ['1110', '1100'], ['1110', '0110'], ['0110', '0010'], ['0010', '1010'], ['0010', '0000'], ['0010', '0011'], ['1011', '1111'], ['1011', '1010'], ['1011', '1001'], ['1011', '0011']]\n",
      "Numero de Cliques en el grafo:  2\n"
     ]
    }
   ],
   "source": [
    "import networkx as nx\n",
    "import itertools\n",
    "import logging\n",
    "import matplotlib.pyplot as plt\n",
    "\n",
    "def hamming_binary(tam):\n",
    "    space = networkx.Graph()\n",
    "\n",
    "    l = [\"01\"] * tam \n",
    "    all_nodes = itertools.product(*l)\n",
    "    all_nodes = [''.join(x) for x in all_nodes]\n",
    "    logging.debug(all_nodes)\n",
    "    space.add_nodes_from(all_nodes) \n",
    "    \n",
    "    for node in space.nodes():\n",
    "        [space.add_edge(node, mutate_node(node, base)) for base in range(tam)]\n",
    "    return space\n",
    "\n",
    "\n",
    "def mutate_node(node, n):\n",
    "    if node[n] == '0':\n",
    "        newbase = '1'\n",
    "    else:\n",
    "        newbase = '0'\n",
    "    new_node = node[0:n] + newbase + node[n+1:]\n",
    "    return new_node\n",
    "\n",
    "space = hamming_binary(4)\n",
    "\n",
    "cliques =list(networkx.find_cliques(space) )\n",
    "num_cliques =  networkx.graph_clique_number(space)\n",
    "\n",
    "print (cliques)\n",
    "print (\"Numero de Cliques en el grafo: \",num_cliques)\n"
   ]
  },
  {
   "cell_type": "code",
   "execution_count": null,
   "metadata": {
    "collapsed": true
   },
   "outputs": [],
   "source": []
  }
 ],
 "metadata": {
  "kernelspec": {
   "display_name": "Python 3",
   "language": "python",
   "name": "python3"
  },
  "language_info": {
   "codemirror_mode": {
    "name": "ipython",
    "version": 3
   },
   "file_extension": ".py",
   "mimetype": "text/x-python",
   "name": "python",
   "nbconvert_exporter": "python",
   "pygments_lexer": "ipython3",
   "version": "3.6.0"
  }
 },
 "nbformat": 4,
 "nbformat_minor": 2
}
