{
 "cells": [
  {
   "cell_type": "code",
   "execution_count": 29,
   "metadata": {
    "collapsed": true
   },
   "outputs": [],
   "source": [
    "p = [1,5,8,9,10,17,17,20,24,30]"
   ]
  },
  {
   "cell_type": "code",
   "execution_count": 72,
   "metadata": {
    "collapsed": false
   },
   "outputs": [],
   "source": [
    "def memo_cut_rodTD(p, n):\n",
    "    r = [-1] * (n+1)\n",
    "    s=\"\"\n",
    "    return memo_cut_rodTD_aux(p,n,r,s)\n",
    "\n",
    "def memo_cut_rodTD_aux(p,n,r,s):\n",
    "    if r[n] >= 0:\n",
    "        return r[n]\n",
    "    if n == 0:\n",
    "        q = 0\n",
    "    else:\n",
    "        q = float('-inf')\n",
    "        for i in range(1,n+1):\n",
    "            a=p[i-1]+memo_cut_rodTD_aux(p,n-i,r,s)\n",
    "            if(q<a):\n",
    "                q=a\n",
    "                if n>2:\n",
    "                    if (\"0\" in s):\n",
    "                        s=\"-%d- %d\" % (i,n-i)\n",
    "                    else:\n",
    "                        s=s[:-2]\n",
    "                        s=s+\"-%d-%d\" % (i,n-i)\n",
    "                    print s\n",
    "            \n",
    "    r[n]=q\n",
    "    print  \"%s - %s\" %(n,q)\n",
    "    return q"
   ]
  },
  {
   "cell_type": "code",
   "execution_count": 73,
   "metadata": {
    "collapsed": false
   },
   "outputs": [
    {
     "name": "stdout",
     "output_type": "stream",
     "text": [
      "0 - 0\n",
      "1 - 1\n",
      "2 - 5\n",
      "-1-2\n",
      "-1-3-0\n",
      "3 - 8\n",
      "-1-3\n",
      "-1-2-2\n",
      "4 - 10\n",
      "-1-4\n",
      "-1-2-3\n",
      "5 - 13\n",
      "-1-5\n",
      "-1-2-4\n",
      "-1-2-3-3\n",
      "-1-2-3-6-0\n",
      "6 - 17\n",
      "-1-6\n",
      "7 - 18\n",
      "-1-7\n",
      "-1-2-6\n",
      "8 - 22\n",
      "-1-8\n",
      "-1-3-6\n",
      "9 - 25\n",
      "25\n"
     ]
    }
   ],
   "source": [
    "sol = memo_cut_rodTD(p,9)\n",
    "print sol\n"
   ]
  },
  {
   "cell_type": "code",
   "execution_count": 17,
   "metadata": {
    "collapsed": true
   },
   "outputs": [],
   "source": [
    "def LCS(X, Y):\n",
    "    m = len(X)\n",
    "    n = len(Y)\n",
    "    # An (m+1) times (n+1) matrix\n",
    "    C = [[0] * (n + 1) for _ in range(m + 1)]\n",
    "    for i in range(1, m+1):\n",
    "        for j in range(1, n+1):\n",
    "            if X[i-1] == Y[j-1]: \n",
    "                C[i][j] = C[i-1][j-1] + 1\n",
    "            else:\n",
    "                C[i][j] = max(C[i][j-1], C[i-1][j])\n",
    "    return C"
   ]
  },
  {
   "cell_type": "code",
   "execution_count": 18,
   "metadata": {
    "collapsed": true
   },
   "outputs": [],
   "source": [
    "def backTrack(C, X, Y, i, j):\n",
    "    if i == 0 or j == 0:\n",
    "        return \"\"\n",
    "    elif X[i-1] == Y[j-1]:\n",
    "        return backTrack(C, X, Y, i-1, j-1) + X[i-1]\n",
    "    else:\n",
    "        if C[i][j-1] > C[i-1][j]:\n",
    "            return backTrack(C, X, Y, i, j-1)\n",
    "        else:\n",
    "            return backTrack(C, X, Y, i-1, j)"
   ]
  },
  {
   "cell_type": "code",
   "execution_count": 21,
   "metadata": {
    "collapsed": false
   },
   "outputs": [],
   "source": [
    "def diferencia(C, X, Y, i, j):\n",
    "    if i > 0 and j > 0 and X[i-1] == Y[j-1]:\n",
    "        diferencia(C, X, Y, i-1, j-1)\n",
    "        print (\"  \" + X[i-1])\n",
    "    else:\n",
    "        if j > 0 and (i == 0 or C[i][j-1] >= C[i-1][j]):\n",
    "            diferencia(C, X, Y, i, j-1)\n",
    "            print (\"+ \" + Y[j-1])\n",
    "        elif i > 0 and (j == 0 or C[i][j-1] < C[i-1][j]):\n",
    "            diferencia(C, X, Y, i-1, j)\n",
    "            print (\"- \" + X[i-1])"
   ]
  },
  {
   "cell_type": "code",
   "execution_count": 25,
   "metadata": {
    "collapsed": false
   },
   "outputs": [
    {
     "name": "stdout",
     "output_type": "stream",
     "text": [
      "AAC\n",
      "- A\n",
      "  A\n",
      "- T\n",
      "  C\n",
      "+ A\n",
      "  C\n",
      "+ G\n",
      "None\n"
     ]
    }
   ],
   "source": [
    "\n",
    "X = \"AATCC\"\n",
    "Y = \"ACACG\"\n",
    "m = len(X)\n",
    "n = len(Y)\n",
    "C = LCS(X, Y)\n",
    "   \n",
    "\n",
    "print (backTrack(C, X, Y, m, n) )\n",
    "print (diferencia(C, X, Y, m, n))"
   ]
  },
  {
   "cell_type": "code",
   "execution_count": null,
   "metadata": {
    "collapsed": true
   },
   "outputs": [],
   "source": []
  },
  {
   "cell_type": "code",
   "execution_count": null,
   "metadata": {
    "collapsed": true
   },
   "outputs": [],
   "source": []
  }
 ],
 "metadata": {
  "kernelspec": {
   "display_name": "Python 3",
   "language": "python",
   "name": "python3"
  },
  "language_info": {
   "codemirror_mode": {
    "name": "ipython",
    "version": 3
   },
   "file_extension": ".py",
   "mimetype": "text/x-python",
   "name": "python",
   "nbconvert_exporter": "python",
   "pygments_lexer": "ipython3",
   "version": "3.6.0"
  }
 },
 "nbformat": 4,
 "nbformat_minor": 1
}
