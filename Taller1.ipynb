{
 "cells": [
  {
   "cell_type": "code",
   "execution_count": 47,
   "metadata": {
    "collapsed": true
   },
   "outputs": [],
   "source": [
    "import math\n",
    "import time\n",
    "import numpy as np\n",
    "import pylab as pl\n",
    "%matplotlib inline"
   ]
  },
  {
   "cell_type": "code",
   "execution_count": 13,
   "metadata": {
    "collapsed": true
   },
   "outputs": [],
   "source": [
    "from random import randrange\n",
    "\n",
    "def partition(A, start, end, pivot):\n",
    "    A[pivot], A[end] = A[end], A[pivot]\n",
    "    j = start\n",
    "    for i in xrange(start, end):\n",
    "        if A[i] < A[end]:\n",
    "            A[i], A[j] = A[j], A[i]\n",
    "            j += 1\n",
    "    A[j], A[end] = A[end], A[j]\n",
    "    return j\n",
    "\n",
    "\n",
    "def quick_sort(A, start, end):\n",
    "    if start >= end:\n",
    "        return A\n",
    "    pivot = randrange(start, end + 1)\n",
    "    j = partition(A, start, end, pivot)\n",
    "    quick_sort(A, start, j - 1)\n",
    "    quick_sort(A, j + 1, end)\n",
    "\n",
    "\n",
    "def sort(A):\n",
    "    quick_sort(A, 0, len(A) - 1)\n",
    "    return A"
   ]
  },
  {
   "cell_type": "code",
   "execution_count": 14,
   "metadata": {
    "collapsed": false
   },
   "outputs": [
    {
     "name": "stdout",
     "output_type": "stream",
     "text": [
      "[5 2 8 7 0 3 1 9 4 6]\n",
      "[0 1 2 3 4 5 6 7 8 9]\n"
     ]
    }
   ],
   "source": [
    "B = np.random.permutation(range(0,10))\n",
    "print B\n",
    "sort(B)\n",
    "print B"
   ]
  },
  {
   "cell_type": "code",
   "execution_count": 12,
   "metadata": {
    "collapsed": false
   },
   "outputs": [
    {
     "ename": "SyntaxError",
     "evalue": "invalid syntax (<ipython-input-12-fc10534f0e4e>, line 1)",
     "output_type": "error",
     "traceback": [
      "\u001b[0;36m  File \u001b[0;32m\"<ipython-input-12-fc10534f0e4e>\"\u001b[0;36m, line \u001b[0;32m1\u001b[0m\n\u001b[0;31m    <html>\u001b[0m\n\u001b[0m    ^\u001b[0m\n\u001b[0;31mSyntaxError\u001b[0m\u001b[0;31m:\u001b[0m invalid syntax\n"
     ]
    }
   ],
   "source": [
    "<html>\n",
    "<h2>Correctitud</h2>\n",
    "<h3>Invariante: Al comienzo de cada iteración del ciclo externo el subarreglo $A[0..j-1]$ consiste de los elementos originalmente en $A[0..j-1]$ pero ordenados.</h3>\n",
    "</html>"
   ]
  },
  {
   "cell_type": "code",
   "execution_count": 30,
   "metadata": {
    "collapsed": false
   },
   "outputs": [],
   "source": [
    "\n",
    "def invariant(A,start,end, pivot):\n",
    "    for x in range(start, pivot):\n",
    "        if A[x]>A[pivot]:\n",
    "            return False\n",
    "    for x in range(pivot, end):\n",
    "        if A[x]<A[pivot]:\n",
    "            return False\n",
    "    return True\n"
   ]
  },
  {
   "cell_type": "code",
   "execution_count": 32,
   "metadata": {
    "collapsed": false
   },
   "outputs": [
    {
     "name": "stdout",
     "output_type": "stream",
     "text": [
      "True\n",
      "False\n"
     ]
    }
   ],
   "source": [
    "print invariant([1, 2, 3, 4, 5], 0, 5, 2)\n",
    "print invariant([5, 2, 3, 4, 5], 0, 5, 2)"
   ]
  },
  {
   "cell_type": "code",
   "execution_count": 33,
   "metadata": {
    "collapsed": true
   },
   "outputs": [],
   "source": [
    "from random import randrange\n",
    "\n",
    "def partition(A, start, end, pivot):\n",
    "    A[pivot], A[end] = A[end], A[pivot]\n",
    "    j = start\n",
    "    for i in xrange(start, end):\n",
    "        if A[i] < A[end]:\n",
    "            A[i], A[j] = A[j], A[i]\n",
    "            j += 1\n",
    "    A[j], A[end] = A[end], A[j]\n",
    "    return j\n",
    "\n",
    "\n",
    "def quick_sort(A, start, end):\n",
    "    if start >= end:\n",
    "        return A\n",
    "    pivot = randrange(start, end + 1)\n",
    "    j = partition(A, start, end, pivot)\n",
    "    assert invariant(A, start,end,j)\n",
    "    quick_sort(A, start, j - 1)\n",
    "    quick_sort(A, j + 1, end)\n",
    "\n",
    "\n",
    "def right_quick_sort(A):\n",
    "    quick_sort(A, 0, len(A) - 1)\n",
    "    return A"
   ]
  },
  {
   "cell_type": "code",
   "execution_count": 34,
   "metadata": {
    "collapsed": false
   },
   "outputs": [
    {
     "name": "stdout",
     "output_type": "stream",
     "text": [
      "[1, 2, 3, 4, 5, 6, 7, 8, 9]\n"
     ]
    }
   ],
   "source": [
    "\n",
    "B = [5, 4, 6, 3, 7, 2, 8, 1, 9]\n",
    "right_quick_sort(B)\n",
    "print B"
   ]
  },
  {
   "cell_type": "code",
   "execution_count": 43,
   "metadata": {
    "collapsed": false
   },
   "outputs": [],
   "source": [
    "from random import randrange\n",
    "\n",
    "def partition(A, start, end, pivot):\n",
    "    A[pivot], A[end] = A[end], A[pivot]\n",
    "    j = start\n",
    "    for i in xrange(start, end):\n",
    "        if A[i] > A[end]:\n",
    "            A[i], A[j] = A[j], A[i]\n",
    "            j += 1\n",
    "    A[j], A[end] = A[end], A[j]\n",
    "    return j\n",
    "\n",
    "\n",
    "def quick_sort(A, start, end):\n",
    "    try:\n",
    "        if start >= end:\n",
    "            return A\n",
    "        pivot = randrange(start, end + 1)\n",
    "        j = partition(A, start, end, pivot)\n",
    "        assert invariant(A, start,end,j)\n",
    "        quick_sort(A, start, j - 1)\n",
    "        quick_sort(A, j + 1, end)\n",
    "    except  AssertionError:\n",
    "        print \"Error en el invariante de ciclo!\"\n",
    "        print \"pivot=\", new_pivot\n",
    "        print \"A=\", A\n",
    "\n",
    "\n",
    "def wrong_quick_sort(A):\n",
    "    quick_sort(A, 0, len(A) - 1)\n",
    "    return A\n",
    "\n"
   ]
  },
  {
   "cell_type": "code",
   "execution_count": 46,
   "metadata": {
    "collapsed": false
   },
   "outputs": [
    {
     "name": "stdout",
     "output_type": "stream",
     "text": [
      "[5, 4, 6, 3, 7, 2, 8, 1, 9]\n",
      "Error en el invariante de ciclo!\n",
      "pivot= 7\n",
      "A= [5, 4, 6, 3, 7, 9, 8, 2, 1]\n"
     ]
    },
    {
     "data": {
      "text/plain": [
       "[5, 4, 6, 3, 7, 9, 8, 2, 1]"
      ]
     },
     "execution_count": 46,
     "metadata": {},
     "output_type": "execute_result"
    }
   ],
   "source": [
    "B = [5, 4, 6, 3, 7, 2, 8, 1, 9]\n",
    "print B\n",
    "wrong_quick_sort(B)\n"
   ]
  },
  {
   "cell_type": "code",
   "execution_count": 117,
   "metadata": {
    "collapsed": true
   },
   "outputs": [],
   "source": [
    "from random import randrange\n",
    "\n",
    "def partition(A, start, end, pivot):\n",
    "    A[pivot], A[end] = A[end], A[pivot]\n",
    "    j = start\n",
    "    for i in xrange(start, end):\n",
    "        if A[i] < A[end]:\n",
    "            A[i], A[j] = A[j], A[i]\n",
    "            j += 1\n",
    "    A[j], A[end] = A[end], A[j]\n",
    "    return j\n",
    "\n",
    "\n",
    "def quick_sort(A, start, end):\n",
    "    if start >= end:\n",
    "        return A\n",
    "    pivot = randrange(start, end + 1)\n",
    "    j = partition(A, start, end, pivot)\n",
    "    quick_sort(A, start, j - 1)\n",
    "    quick_sort(A, j + 1, end)\n",
    "\n",
    "\n",
    "def time_quick_sort(A):\n",
    "    tic = time.clock()#get start time\n",
    "    quick_sort(A, 0, len(A) - 1)\n",
    "    toc = time.clock()#get final time\n",
    "    \n",
    "    time_qs=toc-tic\n",
    "    return time_qs*10000000\n",
    "\n",
    "\n"
   ]
  },
  {
   "cell_type": "code",
   "execution_count": 118,
   "metadata": {
    "collapsed": false
   },
   "outputs": [
    {
     "name": "stdout",
     "output_type": "stream",
     "text": [
      "529.716780875\n"
     ]
    }
   ],
   "source": [
    "B = np.random.permutation(range(0,10))\n",
    "print time_quick_sort(B)"
   ]
  },
  {
   "cell_type": "code",
   "execution_count": 119,
   "metadata": {
    "collapsed": true
   },
   "outputs": [],
   "source": [
    "import random as rnd\n",
    "\n",
    "def exper_analysis(n):\n",
    "    results = []\n",
    "    for i in range(n):\n",
    "        l = range(i)\n",
    "        rnd.shuffle(l)\n",
    "        results.append(time_quick_sort(l))\n",
    "    return results"
   ]
  },
  {
   "cell_type": "code",
   "execution_count": 120,
   "metadata": {
    "collapsed": false
   },
   "outputs": [
    {
     "name": "stdout",
     "output_type": "stream",
     "text": [
      "[16.553649402339943, 6.621460215683328, 122.49700603206293, 158.91503608145285, 132.42919521871954, 115.8755458163796, 112.56481684540631, 132.42919521871954, 168.84722299437271, 198.6437928280793]\n"
     ]
    }
   ],
   "source": [
    "\n",
    "print exper_analysis(10)"
   ]
  },
  {
   "cell_type": "code",
   "execution_count": 121,
   "metadata": {
    "collapsed": false
   },
   "outputs": [
    {
     "data": {
      "image/png": "[encoded data removed]",
      "text/plain": [
       "<matplotlib.figure.Figure at 0xb884eb8>"
      ]
     },
     "metadata": {},
     "output_type": "display_data"
    }
   ],
   "source": [
    "pl.clf()\n",
    "x = np.arange(500)\n",
    "y = np.array(exper_analysis(500))\n",
    "pl.plot(x, y, 'k.')\n",
    "\n",
    "\n",
    "x = range(1,500)\n",
    "pl.plot(x,x*np.log(x),\"-\", label=\"n log(n)\")\n",
    "pl.legend()\n",
    "pl.show()\n",
    "\n"
   ]
  },
  {
   "cell_type": "code",
   "execution_count": null,
   "metadata": {
    "collapsed": true
   },
   "outputs": [],
   "source": []
  },
  {
   "cell_type": "code",
   "execution_count": null,
   "metadata": {
    "collapsed": true
   },
   "outputs": [],
   "source": []
  },
  {
   "cell_type": "code",
   "execution_count": null,
   "metadata": {
    "collapsed": true
   },
   "outputs": [],
   "source": []
  }
 ],
 "metadata": {
  "anaconda-cloud": {},
  "kernelspec": {
   "display_name": "Python [conda root]",
   "language": "python",
   "name": "conda-root-py"
  },
  "language_info": {
   "codemirror_mode": {
    "name": "ipython",
    "version": 2
   },
   "file_extension": ".py",
   "mimetype": "text/x-python",
   "name": "python",
   "nbconvert_exporter": "python",
   "pygments_lexer": "ipython2",
   "version": "2.7.12"
  }
 },
 "nbformat": 4,
 "nbformat_minor": 1
}
