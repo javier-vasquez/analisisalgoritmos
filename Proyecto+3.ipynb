{
 "cells": [
  {
   "cell_type": "markdown",
   "metadata": {
    "collapsed": false
   },
   "source": [
    "<center><h1>PROYECTO ANALISIS DE ALGORITMOS <br> Javier Felipe Vasquez Roldan</h1></center>"
   ]
  },
  {
   "cell_type": "markdown",
   "metadata": {
    "collapsed": true
   },
   "source": [
    "<h2>MST Grafos de Aristas Rojas y Azules</h2>"
   ]
  },
  {
   "cell_type": "code",
   "execution_count": 9,
   "metadata": {
    "collapsed": true
   },
   "outputs": [],
   "source": [
    "class Node:\n",
    "    def __init__(self, distance, color):\n",
    "        self.d = distance\n",
    "        self.c = color\n",
    "        \n",
    "class Parent:\n",
    "    def __init__(self, parent, color):\n",
    "        self.p = parent\n",
    "        self.c = color"
   ]
  },
  {
   "cell_type": "code",
   "execution_count": 10,
   "metadata": {
    "collapsed": false
   },
   "outputs": [],
   "source": [
    "import numpy as np\n",
    "import math\n",
    "import sys\n",
    "\n",
    "\n",
    "inf = math.inf\n",
    "\n",
    "f = open(\"input_n8_b5_r2\",\"r\") \n",
    "\n",
    "\n",
    "for i,line in enumerate(f):\n",
    "    if i==0:\n",
    "        n_nodes= int(line)\n",
    "        nodes = [[Node(inf,\"N\") for j in range(n_nodes)] for i in range(n_nodes)] \n",
    "    elif i==1:\n",
    "        blue_arists = int(line)\n",
    "    else:\n",
    "        for j,part in enumerate(line.split()):\n",
    "            if part!=\"Inf\":\n",
    "                nodes[i-2][j+i-2]=Node(int(part.split(\"/\")[0]),part.split(\"/\")[1])\n",
    "                nodes[j+i-2][i-2]=Node(int(part.split(\"/\")[0]),part.split(\"/\")[1])\n",
    "\n",
    "\n",
    "V = n_nodes\n",
    "parent = [Node(0,\"N\") for i in range(V)]\n",
    "key = [sys.maxsize for i in range(V)]\n",
    "mstSet = [0 for i in range(V)]\n",
    "\n",
    "    \n",
    "def minKey(key,mstSet):\n",
    "    min = sys.maxsize\n",
    " \n",
    "    for v in range (V):\n",
    "        if mstSet[v] == 0 and key[v] < min:\n",
    "            min = key[v]\n",
    "            min_index = v\n",
    "    return min_index;\n",
    "\n",
    " \n",
    "def imprimir(parent, n, graph):\n",
    "    sum = 0 \n",
    "    for i in range (1,V):\n",
    "        sum = sum + graph[i][parent[i].p].d\n",
    "    print (sum)\n",
    "    for i in range (1,V):\n",
    "        if parent[i].c==\"B\":\n",
    "            print ( \"(\",parent[i].p,\",\", i,\")\",end='')\n",
    "    print(\"\")\n",
    "    for i in range (1,V):\n",
    "        if parent[i].c==\"R\":\n",
    "            print ( \"(\",parent[i].p,\",\", i,\")\",end='')\n",
    "        #,graph[i][parent[i].p].d,\"/\",parent[i].c\n",
    "\n",
    "def primMST(graph,max_blues,faltantes):\n",
    "    V = n_nodes\n",
    "    parent = [Node(0,\"N\") for i in range(V)]\n",
    "    key = [sys.maxsize for i in range(V)]\n",
    "    mstSet = [0 for i in range(V)]\n",
    "    key[0] = 0\n",
    "    parent[0] = Parent(-1,\"N\")\n",
    "    blues = 0\n",
    "\n",
    "    for count in range (V):\n",
    "        u = minKey(key, mstSet)\n",
    "        mstSet[u] = 1\n",
    "        for v in range (V):\n",
    "            if mstSet[v] == 0 and graph[u][v].d <  key[v]:\n",
    "                if faltantes == 0:\n",
    "                    parent[v]  = Parent(u,graph[u][v].c)\n",
    "                    key[v] = graph[u][v].d\n",
    "                else:\n",
    "                    if graph[u][v].c == \"B\":\n",
    "                        parent[v]  = Parent(u,graph[u][v].c)\n",
    "                        key[v] = graph[u][v].d\n",
    "                        faltantes=faltantes-1\n",
    "                \n",
    "    for i in range (1,V):\n",
    "        if parent[i].c==\"B\":\n",
    "            blues = blues+1\n",
    "    if blues<max_blues:\n",
    "        faltantes = max_blues-blues\n",
    "        primMST(graph,max_blues,faltantes)\n",
    "    else:\n",
    "        imprimir(parent, V, graph)\n",
    "\n",
    "\n"
   ]
  },
  {
   "cell_type": "code",
   "execution_count": 12,
   "metadata": {
    "collapsed": false
   },
   "outputs": [
    {
     "name": "stdout",
     "output_type": "stream",
     "text": [
      "22\n",
      "( 4 , 2 )( 1 , 3 )( 0 , 4 )( 2 , 6 )( 6 , 7 )\n",
      "( 2 , 1 )( 1 , 5 )"
     ]
    }
   ],
   "source": [
    "primMST(nodes,blue_arists,0)"
   ]
  },
  {
   "cell_type": "markdown",
   "metadata": {},
   "source": [
    "# Solucion 2\n",
    "\n",
    "La solucion 2 se realiza apartir de una busqueda de todos los posibles casos de un MST del grafo hasta que se llega a uno que cumpla con los requisitos minimos de aristas rojas y azules, en resumidas cuentas se implementa un algoritmo de fuerza bruba el cual:\n",
    "\n",
    "- Genera todos los grafos posibles con todos los nodos\n",
    "- Analiza si este tiene ciclos (si no, entonces es un MST)\n",
    "- Revisa si cumple con el numero de aristas rojas definida por el archivo\n",
    "- Retorna la solucion\n",
    "\n",
    "Esta misma solucion se tiene una complejidad de $O(2ˆn)$"
   ]
  },
  {
   "cell_type": "code",
   "execution_count": 21,
   "metadata": {
    "collapsed": true
   },
   "outputs": [],
   "source": [
    "import numpy as np\n",
    "import math\n",
    "import networkx as nx\n",
    "import sys\n",
    "\n",
    "inf = math.inf\n",
    "\n",
    "\n",
    "def leer_archivo(file):\n",
    "    f = open(file,\"r\") \n",
    "    for i,line in enumerate(f):\n",
    "        if i==0:\n",
    "            n_nodes= int(line)\n",
    "            nodes = [[Node(inf,\"#\") for j in range(n_nodes)] for i in range(n_nodes)] \n",
    "        elif i==1:\n",
    "            blue_arists = int(line)\n",
    "        else:\n",
    "            for j,part in enumerate(line.split()):\n",
    "                if part!=\"Inf\":\n",
    "                    nodes[i-2][j+i-2]=Node(int(part.split(\"/\")[0]),part.split(\"/\")[1])\n",
    "                    nodes[j+i-2][i-2]=Node(int(part.split(\"/\")[0]),part.split(\"/\")[1])\n",
    "                    \n",
    "    return n_nodes, blue_arists, nodes\n",
    "\n",
    "def imprimir(parent, n, graph):\n",
    "    sum = 0 \n",
    "    for i in range (1,V):\n",
    "        sum = sum + graph[i][parent[i].p].d\n",
    "    print (sum)\n",
    "    for i in range (1,V):\n",
    "        if parent[i].c==\"B\":\n",
    "            print ( \"(\",parent[i].p,\",\", i,\")\",end='')\n",
    "    print(\"\")\n",
    "    for i in range (1,V):\n",
    "        if parent[i].c==\"R\":\n",
    "            print ( \"(\",parent[i].p,\",\", i,\")\",end='')\n",
    "        #,graph[i][parent[i].p].d,\"/\",parent[i].c"
   ]
  },
  {
   "cell_type": "code",
   "execution_count": 13,
   "metadata": {
    "collapsed": false
   },
   "outputs": [
    {
     "name": "stdout",
     "output_type": "stream",
     "text": [
      "22\n",
      "( 4 , 2 )( 1 , 3 )( 0 , 4 )( 2 , 6 )( 6 , 7 )\n",
      "( 2 , 1 )( 1 , 5 )"
     ]
    }
   ],
   "source": [
    "# CUENTA ARISTAS AZULES EN EL GRAFO\n",
    "def azules(A):\n",
    "    cont = 0;\n",
    "    for i in A:\n",
    "        for j in i:\n",
    "            if(j.c == 'B'):\n",
    "                cont += 1\n",
    "    return cont\n",
    "# CUENTA ARISTAS ROJAS EN EL GRAFO\n",
    "def rojos(A):\n",
    "    return len(A) - numBlue(A)\n",
    "\n",
    "# CONVIERTE LA MATRIZ DE ADYACENCIA EN UNA MATRIZ SENCILLA SIN COLORES \n",
    "def matriz(A):\n",
    "    T = []\n",
    "    for i in range(len(A)):\n",
    "        P = []\n",
    "        for j in range(len(A)):\n",
    "            P.append(0)\n",
    "        T.append(P)\n",
    "    for i in range (len(A)):\n",
    "        for j in range (len(A)):\n",
    "            if A[i][j].d != inf:\n",
    "                T[i][j] = A[i][j].d\n",
    "    return T\n",
    "\n",
    "# CONVIERTE LA MATRIZ DE ADYACENCIA EN UNA MATRIZ NUMPHY Y REVISA SI TIENE CICLOS CON NETWORKX.CYCLE_BASIS\n",
    "def ciclos(A):\n",
    "    T = matriz(A)\n",
    "    A=np.matrix(T)\n",
    "    G=nx.from_numpy_matrix(A)\n",
    "    C = nx.cycle_basis(G,0)\n",
    "    if(len(C) == 0):\n",
    "        return False\n",
    "    else:\n",
    "        return True    \n",
    "\n",
    "\n",
    "n,K,V = leer_archivo('input_n8_b5_r2')\n",
    "\n",
    "\n",
    "ans = []\n",
    "minW = inf\n",
    "\n",
    "\n",
    "def MST2(at, x, y, Sol):\n",
    "    \n",
    "#     for i in range (len(Sol)):\n",
    "#         for j in range (len(Sol)):\n",
    "#             print(Sol[i][j].c,end = \" \")\n",
    "#         print(\"\")\n",
    "#     print(\"------------------\")\n",
    "\n",
    "# REVISA SI EL GRAFO NO TIENE CICLOS Y SI CUMPLE CON EL NUMERO DE ARISTAS ROJAS Y AZULES \n",
    "    if(azules(Sol) == K and rojos(Sol) == n - K - 1 and ciclos(Sol, n) == False):\n",
    "        ans = Sol\n",
    "        return\n",
    "    if(at == len(V)):\n",
    "        return\n",
    "    \n",
    "    temp = Sol\n",
    "#     SE QUITA UNA ARISTA PARA VER SI EXISTE UNA SOLUCION CON EL NUEVO GRAFO\n",
    "    temp[x][y] = Node(inf,\"#\")\n",
    "    temp[y][x] = Node(inf,\"#\")\n",
    "    \n",
    "#     print (x,y)\n",
    "\n",
    "# SE ITERA POR TODOS LOS NODOS \n",
    "    MST2(at+1, x+1 , y, temp)\n",
    "    MST2(at+1, x , y+1, temp)\n",
    "\n",
    "\n",
    "Sol = MST2(0,0,0,V)\n",
    "imprimir(sol)\n",
    "for i in range (len(ans)):\n",
    "        for j in range (len(ans)):\n",
    "            print(ans[i][j].d)\n"
   ]
  },
  {
   "cell_type": "markdown",
   "metadata": {},
   "source": [
    "<h2>K- Tiendas</h2>"
   ]
  },
  {
   "cell_type": "code",
   "execution_count": 6,
   "metadata": {
    "collapsed": false
   },
   "outputs": [
    {
     "ename": "SyntaxError",
     "evalue": "invalid syntax (<ipython-input-6-8867dd531f54>, line 33)",
     "output_type": "error",
     "traceback": [
      "\u001b[0;36m  File \u001b[0;32m\"<ipython-input-6-8867dd531f54>\"\u001b[0;36m, line \u001b[0;32m33\u001b[0m\n\u001b[0;31m    if()\u001b[0m\n\u001b[0m        ^\u001b[0m\n\u001b[0;31mSyntaxError\u001b[0m\u001b[0;31m:\u001b[0m invalid syntax\n"
     ]
    }
   ],
   "source": [
    "import numpy as np\n",
    "import math\n",
    "import sys\n",
    "\n",
    "\n",
    "inf = math.inf\n",
    "\n",
    "f = open(\"input_n5_k2.txt\",\"r\") \n",
    "\n",
    "\n",
    "for i,line in enumerate(f):\n",
    "    if i==0:\n",
    "        k= int(line)\n",
    "    else:\n",
    "        if i==1:\n",
    "            size = len(line.split())-1\n",
    "            matrix = [[inf for j in range(size)] for i in range(size)]\n",
    "            names = [\"x\" for j in range(size)]\n",
    "        for j,part in enumerate(line.split()):\n",
    "            if j==0:\n",
    "                names[i-1] = part\n",
    "            else:\n",
    "                if part!=\"0\":\n",
    "                    matrix[i-1][j-1]=int(part)\n",
    "                \n",
    "print (matrix)\n",
    "print (names)\n",
    "\n",
    "\n",
    "\n",
    "for i in range (size):\n",
    "    for j in range (size):\n",
    "        if()\n",
    "        cost = cost + matrix[i][j]\n",
    "               \n"
   ]
  },
  {
   "cell_type": "markdown",
   "metadata": {},
   "source": [
    "<h1> Cliques en Grafos </h1>\n",
    "\n",
    "<p>Se usa una libreria llamada Networkx la cual maneja la creacion de los grafos y encuentra los cliques. Se implementa un algoritmo de Hamming que toma un tiempo de O(2^n) la implementacion es tomada de: https://gist.github.com/mariaperez/1896793</p>"
   ]
  },
  {
   "cell_type": "code",
   "execution_count": 20,
   "metadata": {
    "collapsed": false
   },
   "outputs": [
    {
     "name": "stdout",
     "output_type": "stream",
     "text": [
      "[['1111', '1000'], ['1111', '0100'], ['1111', '0001'], ['1111', '0000'], ['1111', '0010'], ['0110', '1000'], ['0110', '1011'], ['0110', '0001'], ['0110', '1101'], ['0110', '1001'], ['0111', '1000'], ['0111', '1010'], ['0111', '1100'], ['0111', '0000'], ['0111', '1001'], ['1010', '1101'], ['1010', '0100'], ['1010', '0001'], ['1010', '0101'], ['1011', '1100'], ['1011', '0100'], ['1011', '0000'], ['1011', '0101'], ['0011', '1000'], ['0011', '0100'], ['0011', '1100'], ['0011', '1110'], ['0011', '1101'], ['1100', '0010'], ['1100', '0001'], ['1101', '0000'], ['1101', '0010'], ['1110', '0101'], ['1110', '0000'], ['1110', '0001'], ['1110', '1001'], ['0101', '1000'], ['0101', '0010'], ['1001', '0010'], ['1001', '0100']]\n",
      "Numero de Cliques en el grafo:  2\n"
     ]
    }
   ],
   "source": [
    "import networkx\n",
    "import itertools\n",
    "import logging\n",
    "import matplotlib.pyplot as plt\n",
    "\n",
    "def hamming(sf, ss):        \n",
    "        dif = 0\n",
    "        for first, second in zip(sf, ss):\n",
    "                if first != second:\n",
    "                        dif += 1\n",
    "        return dif\n",
    "    \n",
    "def hamming_binary(tam,d):\n",
    "    space = networkx.Graph()\n",
    "\n",
    "    l = [\"01\"] * tam \n",
    "    all_nodes = itertools.product(*l)\n",
    "    all_nodes = [''.join(x) for x in all_nodes]\n",
    "    logging.debug(all_nodes)\n",
    "    space.add_nodes_from(all_nodes) \n",
    "    \n",
    "    for node in space.nodes():        \n",
    "        for v in space.nodes():\n",
    "            if(v != node):\n",
    "                dist = hamming(node, v)\n",
    "                if(dist >= d):\n",
    "                    space.add_edge(node,v)\n",
    "    \n",
    "    return space\n",
    "\n",
    "\n",
    "def mutate_node(node, n):\n",
    "    if node[n] == '0':\n",
    "        newbase = '1'\n",
    "    else:\n",
    "        newbase = '0'\n",
    "    new_node = node[0:n] + newbase + node[n+1:]\n",
    "    return new_node\n",
    "\n",
    "space = hamming_binary(4,3)\n",
    "\n",
    "cliques =list(networkx.find_cliques(space) )\n",
    "num_cliques =  networkx.graph_clique_number(space)\n",
    "\n",
    "print (cliques)\n",
    "print (\"Numero de Cliques en el grafo: \",num_cliques)\n"
   ]
  },
  {
   "cell_type": "code",
   "execution_count": null,
   "metadata": {
    "collapsed": true
   },
   "outputs": [],
   "source": []
  }
 ],
 "metadata": {
  "kernelspec": {
   "display_name": "Python 3",
   "language": "python",
   "name": "python3"
  },
  "language_info": {
   "codemirror_mode": {
    "name": "ipython",
    "version": 3
   },
   "file_extension": ".py",
   "mimetype": "text/x-python",
   "name": "python",
   "nbconvert_exporter": "python",
   "pygments_lexer": "ipython3",
   "version": "3.6.0"
  }
 },
 "nbformat": 4,
 "nbformat_minor": 2
}
