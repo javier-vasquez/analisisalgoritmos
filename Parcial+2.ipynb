{
 "cells": [
  {
   "cell_type": "code",
   "execution_count": 195,
   "metadata": {
    "collapsed": true
   },
   "outputs": [],
   "source": [
    "MOVE_COST = 0\n",
    "REPLACE_COST = 4\n",
    "INSERT_COST = 3\n",
    "DELETE_COST = 2\n",
    "\n",
    "from enum import Enum\n",
    "\n",
    "class enum (Enum):\n",
    "    initial = 0\n",
    "    right = 1\n",
    "    insert = 2\n",
    "    delete = 3\n",
    "    replace = 4\n",
    "    final = 5\n",
    "\n",
    "\n",
    "opStrings = [\"inicial\",\"derecha\",\"insertar\",\"borrar\",\"remplazar\",\"final\"]"
   ]
  },
  {
   "cell_type": "code",
   "execution_count": 222,
   "metadata": {
    "collapsed": false
   },
   "outputs": [],
   "source": [
    "def distanciaEdicion (x, m, y, n):\n",
    "         \n",
    "    d = [[0 for i in range(m+1)] for j in range(n+1)]\n",
    "    operaciones = [[0 for i in range(m+1)] for j in range(n+1)]\n",
    "    \n",
    "    d[m][n] = 0\n",
    "    operaciones[m][n] = enum.final.value\n",
    "\n",
    "    for i in range (0,m) :\n",
    "        d[i][n] = DELETE_COST * (m - i);\n",
    "        operaciones[i][n] = enum.delete.value;\n",
    "\n",
    "    for j in range (0,n) :\n",
    "    \n",
    "        d[m][j] = INSERT_COST * (n - j);\n",
    "        operaciones[m][j] = enum.insert.value;\n",
    "  \n",
    "\n",
    "    for i in range (m-1, 0, -1):\n",
    "        for j in range (n-1 , 0, -1):\n",
    "            replace_move_cost = d[i + 1][j + 1] + REPLACE_COST * (x[i] != y[j]) + MOVE_COST * (x[i] == y[j])\n",
    "            insert_cost = d[i][j + 1] + INSERT_COST\n",
    "            delete_cost = d[i + 1][j] + DELETE_COST\n",
    "            minValue = replace_move_cost;\n",
    "            if x[i] != y[j] :\n",
    "                actual_op = enum.replace\n",
    "            else:\n",
    "                actual_op = enum.right\n",
    "                \n",
    "            if minValue > insert_cost :\n",
    "                minValue = insert_cost\n",
    "                actual_op = enum.insert;\n",
    "\n",
    "            if minValue > delete_cost :\n",
    "                minValue = delete_cost\n",
    "                actual_op = enum.delete;\n",
    "\n",
    "            d[i][j] = minValue;\n",
    "            operaciones[i][j] = actual_op.value\n",
    "\n",
    "    print (\"Distancia: \", d[1][1])\n",
    "\n",
    "    if (m < 75) and (n < 75):\n",
    "        imprimir(x, m, y, n, d, operaciones)\n",
    "\n",
    "\n",
    "\n",
    "\n",
    "def imprimir(x, m, y, n, d,operaciones):\n",
    "    i = 1\n",
    "    j = 1\n",
    "    k = 0\n",
    "    costSoFar = 0\n",
    "    stepCost = 0\n",
    "    \n",
    "    newString=\"\"\n",
    "    newString = x[:m] + newString[m:]\n",
    "    \n",
    "    print (operaciones)\n",
    "\n",
    "    print(\"\\n\")\n",
    "    print(\"  Operaion | costo | Total |  String \\n\")\n",
    "    print(\"  inicial  | \", costSoFar ,\" | \",stepCost,\"  | \", x ,\"\\n\")\n",
    "\n",
    "    while (operaciones[i][j] != enum.final.value):\n",
    "        actual_op = operaciones[i][j]\n",
    "        if actual_op == enum.right.value:\n",
    "            \n",
    "            list1 = list(newString)\n",
    "            list1[k] = x[i]\n",
    "            newString = ''.join(list1)\n",
    "            i+=1\n",
    "            j+=1\n",
    "            stepCost = MOVE_COST\n",
    "          \n",
    "        elif actual_op == enum.replace.value:\n",
    "            list1 = list(newString)\n",
    "            list1[k] = y[j]\n",
    "            newString = ''.join(list1)\n",
    "            i+=1\n",
    "            j+=1\n",
    "            stepCost = REPLACE_COST\n",
    "            \n",
    "        elif actual_op == enum.insert.value:\n",
    "            list1 = list(newString)\n",
    "            list1[k] = y[j]\n",
    "            newString = ''.join(list1)\n",
    "            j+=1\n",
    "            stepCost = INSERT_COST\n",
    "            \n",
    "        elif actual_op ==  enum.delete.value:\n",
    "            i+=1\n",
    "            stepCost = DELETE_COST\n",
    "            \n",
    "        else : \n",
    "            print(\"Error\\n\")\n",
    "            exit(1)\n",
    "           \n",
    "        if actual_op != enum.delete.value :\n",
    "            k+=1\n",
    "        costSoFar += stepCost\n",
    "        oper = opStrings[actual_op]\n",
    "        \n",
    "        print(\" \", oper ,\" | \",stepCost,\" | \", costSoFar,\"  | \",end='')\n",
    "\n",
    "        for a in range (0,k) :\n",
    "            print(newString[a], end='');\n",
    "        \n",
    "        print(\"*\",end='')\n",
    "\n",
    "        for a in range (i,m) :\n",
    "            print(x[a], end='');\n",
    "\n",
    "        print(\"\\n\");\n",
    "    \n",
    "    #free(newString);\n",
    "\n",
    "\n",
    "MAX_LENGTH = 1000\n",
    "\n"
   ]
  },
  {
   "cell_type": "code",
   "execution_count": null,
   "metadata": {
    "collapsed": true
   },
   "outputs": [],
   "source": []
  },
  {
   "cell_type": "code",
   "execution_count": 223,
   "metadata": {
    "collapsed": false
   },
   "outputs": [
    {
     "name": "stdout",
     "output_type": "stream",
     "text": [
      "Distancia:  23\n",
      "[[0, 0, 0, 0, 0, 0, 0, 0, 3], [0, 2, 2, 1, 3, 4, 4, 4, 3], [0, 4, 4, 4, 3, 4, 4, 4, 3], [0, 4, 4, 4, 3, 4, 4, 4, 3], [0, 4, 4, 4, 3, 4, 4, 4, 3], [0, 2, 2, 2, 1, 4, 4, 4, 3], [0, 4, 4, 4, 4, 4, 4, 4, 3], [0, 4, 4, 4, 4, 4, 4, 4, 3], [2, 2, 2, 2, 2, 2, 2, 2, 5]]\n",
      "\n",
      "\n",
      "  Operaion | costo | Total |  String \n",
      "\n",
      "  inicial  |  0  |  0   |  algoritm \n",
      "\n",
      "  insertar  |  3  |  3   | n*lgoritm\n",
      "\n",
      "  insertar  |  3  |  6   | na*lgoritm\n",
      "\n",
      "  derecha  |  0  |  6   | nal*goritm\n",
      "\n",
      "  borrar  |  2  |  8   | nal*oritm\n",
      "\n",
      "  borrar  |  2  |  10   | nal*ritm\n",
      "\n",
      "  borrar  |  2  |  12   | nal*itm\n",
      "\n",
      "  derecha  |  0  |  12   | nali*tm\n",
      "\n",
      "  remplazar  |  4  |  16   | nalis*m\n",
      "\n",
      "  remplazar  |  4  |  20   | nalisy*\n",
      "\n",
      "  insertar  |  3  |  23   | nalisys*\n",
      "\n"
     ]
    }
   ],
   "source": [
    "distanciaEdicion(\"algoritm\", 8 , \"analisys\" , 8)"
   ]
  },
  {
   "cell_type": "code",
   "execution_count": 219,
   "metadata": {
    "collapsed": false
   },
   "outputs": [
    {
     "name": "stdout",
     "output_type": "stream",
     "text": [
      "Distancia =  28\n"
     ]
    }
   ],
   "source": [
    "distanciaEdicion(\"In fairy-tales, witches always wear silly black hats and black cloaks, and they ride on broomsticks.  But this is not a fairy-tale. This is about Real Witches.  The most important thing you should know about Real Witches is this.  Listen very carefully.  Never forget what is coming next.  Real Witches dress in ordinary clothes and look very much like ordinary women. They live in ordinary houses and work in Ordinary Jobs.  That is why they are so hard to catch.  A Real Witch hates children with a red-hot sizzling hatred that is more sizzling and red-hot than any hatred you could possibly imagine.\", 602 , \"In fairy-tales, witches always wear silly black hats and black cloaks, and they ride on broomsticks.  But this is not a fairy-tale. This is about Real Witches.  The most important thing you should know about Real Witches is this.  Listen very carefully.  Never forget what is coming next.  Real Witches dress in ordinary clothes and look vecy much lire ordinary women. They live in ordinary houses and work in Ordinary Jobs.  That is why they are so hadd to cttch.  A Real Witch hates chilrren with a red-hot sissling hatred that is more sizzling and red-hot than any hatred you could possibly imagine.\" , 602)"
   ]
  },
  {
   "cell_type": "code",
   "execution_count": 215,
   "metadata": {
    "collapsed": false
   },
   "outputs": [
    {
     "ename": "SyntaxError",
     "evalue": "invalid syntax (<ipython-input-215-238f5e906fd8>, line 1)",
     "output_type": "error",
     "traceback": [
      "\u001b[0;36m  File \u001b[0;32m\"<ipython-input-215-238f5e906fd8>\"\u001b[0;36m, line \u001b[0;32m1\u001b[0m\n\u001b[0;31m    $\u001b[0m\n\u001b[0m    ^\u001b[0m\n\u001b[0;31mSyntaxError\u001b[0m\u001b[0;31m:\u001b[0m invalid syntax\n"
     ]
    }
   ],
   "source": [
    "$\n",
    "inicial string   0  0    algorithm\n",
    "derecha          0  0    algorithm\n",
    "insertar n       3  3    anlgorithm\n",
    "insertar a       3  6    analgorithm\n",
    "derecha          0  6    analgorithm\n",
    "reemplazar by y  4  10   analyorithm\n",
    "reemplazar by s  4  14   analysrithm\n",
    "reemplazar by i  4  18   analysiithm\n",
    "reemplazar by s  4  22   analysisthm\n",
    "borrar           2  24   analysishm\n",
    "borrar           2  26   analysism \n",
    "borrar           2  28   analysis\n",
    "$"
   ]
  },
  {
   "cell_type": "code",
   "execution_count": 205,
   "metadata": {
    "collapsed": false
   },
   "outputs": [
    {
     "ename": "SyntaxError",
     "evalue": "invalid syntax (<ipython-input-205-568beccc96e1>, line 1)",
     "output_type": "error",
     "traceback": [
      "\u001b[0;36m  File \u001b[0;32m\"<ipython-input-205-568beccc96e1>\"\u001b[0;36m, line \u001b[0;32m1\u001b[0m\n\u001b[0;31m    Suponemos que no existe la secuencia S.\u001b[0m\n\u001b[0m                ^\u001b[0m\n\u001b[0;31mSyntaxError\u001b[0m\u001b[0;31m:\u001b[0m invalid syntax\n"
     ]
    }
   ],
   "source": [
    "Si se inserta una letra y despues se elimina,se pueden eliminar las dos operaciones para producir una secuencia S \n",
    "que produzca el mismo resultado a menor costo de la operacion insertar un carácter a y luego sustituirlo por un caracter b, \n",
    "entonces la operación de inserción se puede cambiar para insertar b y la operación de reemplazo se puede eliminar \n",
    "Si un carácter es reemplazado por un caracter a y luego reemplazado de nuevo por un carácter b, ambas operaciones \n",
    "pueden ser reemplazadas por \"reemplazar b\". \n",
    "\n",
    "Esto significa que todos los caracteres insertados y reemplazados nunca se cambian después de realizar \n",
    "la inserción o sustitución. \n",
    "\n"
   ]
  },
  {
   "cell_type": "code",
   "execution_count": null,
   "metadata": {
    "collapsed": true
   },
   "outputs": [],
   "source": []
  }
 ],
 "metadata": {
  "kernelspec": {
   "display_name": "Python 3",
   "language": "python",
   "name": "python3"
  },
  "language_info": {
   "codemirror_mode": {
    "name": "ipython",
    "version": 3
   },
   "file_extension": ".py",
   "mimetype": "text/x-python",
   "name": "python",
   "nbconvert_exporter": "python",
   "pygments_lexer": "ipython3",
   "version": "3.6.0"
  }
 },
 "nbformat": 4,
 "nbformat_minor": 2
}
