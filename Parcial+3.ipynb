{
 "cells": [
  {
   "cell_type": "markdown",
   "metadata": {},
   "source": [
    "# PUNTO 1"
   ]
  },
  {
   "cell_type": "code",
   "execution_count": 63,
   "metadata": {
    "collapsed": true
   },
   "outputs": [],
   "source": [
    "from math import atan\n",
    "class Point:\n",
    "     def __init__(self, x, y, name):\n",
    "        self.x = x\n",
    "        self.y = y\n",
    "        self.name = name\n",
    "            \n",
    "class Angle:\n",
    "    def __init__(self, p, angle):\n",
    "        self.p = p\n",
    "        self.angle = angle"
   ]
  },
  {
   "cell_type": "code",
   "execution_count": 64,
   "metadata": {
    "collapsed": false
   },
   "outputs": [],
   "source": [
    "\n",
    "def colinear ( p ):\n",
    "    \n",
    "    angle = []\n",
    "    for i in range (len(p)-1):\n",
    "        k = len(p)-i-1;\n",
    "        angle = [None] * k\n",
    "        for j in range (i+1,len(p),1):\n",
    "            if (p[j].x-p[i].x) == 0:\n",
    "                temp = 0\n",
    "            else:\n",
    "                temp = (p[j].y-p[i].y)/(p[j].x-p[i].x)\n",
    "            an = Angle(p[j], atan(temp))\n",
    "            angle[j-i-1] = an\n",
    "\n",
    "        angle = sorted(angle, key=lambda ang: ang.angle)\n",
    "\n",
    "\n",
    "\n",
    "        previous = angle[0]\n",
    "\n",
    "        s = \"\"\n",
    "        s += p[i].name + \",\" + previous.p.name\n",
    "\n",
    "        for n in range (1, k, 1):\n",
    "            if previous.angle == angle[n].angle:\n",
    "                s += \",\" + angle[n].p.name\n",
    "                print (s)\n",
    "            else:\n",
    "                s = \"\"\n",
    "                s += p[i].name + \",\" + angle[n].p.name\n",
    "            previous=angle[n]\n",
    "\n"
   ]
  },
  {
   "cell_type": "code",
   "execution_count": 65,
   "metadata": {
    "collapsed": false
   },
   "outputs": [
    {
     "name": "stdout",
     "output_type": "stream",
     "text": [
      "A,C,E\n",
      "A,C,E,I\n",
      "C,E,I\n"
     ]
    }
   ],
   "source": [
    "p = []\n",
    "\n",
    "p.append(Point(2, 2,'A'))\n",
    "p.append(Point(8, 6,'B'))\n",
    "p.append(Point(4, 4,'C'))\n",
    "p.append(Point(1, 9,'D'))\n",
    "p.append(Point(3, 3,'E'))\n",
    "p.append(Point(12, 7,'F'))\n",
    "p.append(Point(10, 4,'G'))\n",
    "p.append(Point(13, 26,'H'))\n",
    "p.append(Point(1, 1,'I'))\n",
    "p.append(Point(21, 17,'J'))\n",
    "\n",
    "\n",
    "colinear(p)"
   ]
  },
  {
   "cell_type": "code",
   "execution_count": 66,
   "metadata": {
    "collapsed": false
   },
   "outputs": [
    {
     "name": "stdout",
     "output_type": "stream",
     "text": [
      "B,C,F\n",
      "B,C,F,G\n",
      "B,C,F,G,J\n",
      "C,F,G\n",
      "C,F,G,J\n",
      "F,G,J\n"
     ]
    }
   ],
   "source": [
    "p = []\n",
    "\n",
    "p.append(Point(7, 2,'A'))\n",
    "p.append(Point(8, 3,'B'))\n",
    "p.append(Point(1, 3,'C'))\n",
    "p.append(Point(4, 5,'D'))\n",
    "p.append(Point(25, 6,'E'))\n",
    "p.append(Point(13, 3,'F'))\n",
    "p.append(Point(16, 3,'G'))\n",
    "p.append(Point(43, 5,'H'))\n",
    "p.append(Point(22, 6,'I'))\n",
    "p.append(Point(11, 3,'J'))\n",
    "\n",
    "\n",
    "colinear(p)"
   ]
  },
  {
   "cell_type": "code",
   "execution_count": 67,
   "metadata": {
    "collapsed": false
   },
   "outputs": [
    {
     "name": "stdout",
     "output_type": "stream",
     "text": [
      "G,H,I\n",
      "G,H,I,J\n",
      "H,I,J\n"
     ]
    }
   ],
   "source": [
    "p = []\n",
    "\n",
    "p.append(Point(7, 9,'A'))\n",
    "p.append(Point(8, 0,'B'))\n",
    "p.append(Point(43, 8,'C'))\n",
    "p.append(Point(23, 5,'D'))\n",
    "p.append(Point(25, 6,'E'))\n",
    "p.append(Point(13, 3,'F'))\n",
    "p.append(Point(0, 0,'G'))\n",
    "p.append(Point(1, 2,'H'))\n",
    "p.append(Point(2, 4,'I'))\n",
    "p.append(Point(3, 6,'J'))\n",
    "\n",
    "\n",
    "colinear(p)"
   ]
  },
  {
   "cell_type": "markdown",
   "metadata": {},
   "source": [
    "# PUNTO 2"
   ]
  },
  {
   "cell_type": "markdown",
   "metadata": {},
   "source": [
    "Se realiza una implementacion del algoritmo de Bentley Ottmann  que es un algoritmo Sweep line cuyo objetivo es  listar todos los cruces en un conjunto de segmentos de línea, si existe un segmento que se cruce, entonces es un Poligono complejo, o lo que es lo mismo, no es un poligono Simple"
   ]
  },
  {
   "cell_type": "code",
   "execution_count": 121,
   "metadata": {
    "collapsed": true
   },
   "outputs": [],
   "source": []
  },
  {
   "cell_type": "code",
   "execution_count": 159,
   "metadata": {
    "collapsed": false
   },
   "outputs": [
    {
     "ename": "ValueError",
     "evalue": "list.remove(x): x not in list",
     "output_type": "error",
     "traceback": [
      "\u001b[0;31m---------------------------------------------------------------------------\u001b[0m",
      "\u001b[0;31mValueError\u001b[0m                                Traceback (most recent call last)",
      "\u001b[0;32m<ipython-input-159-675393039012>\u001b[0m in \u001b[0;36m<module>\u001b[0;34m()\u001b[0m\n\u001b[1;32m     46\u001b[0m \u001b[0;34m\u001b[0m\u001b[0m\n\u001b[1;32m     47\u001b[0m \u001b[0mevents\u001b[0m \u001b[0;34m=\u001b[0m \u001b[0msorted\u001b[0m\u001b[0;34m(\u001b[0m\u001b[0mevents\u001b[0m\u001b[0;34m,\u001b[0m \u001b[0mkey\u001b[0m\u001b[0;34m=\u001b[0m\u001b[0;32mlambda\u001b[0m \u001b[0mev\u001b[0m\u001b[0;34m:\u001b[0m \u001b[0mev\u001b[0m\u001b[0;34m.\u001b[0m\u001b[0mp1\u001b[0m\u001b[0;34m.\u001b[0m\u001b[0mx\u001b[0m\u001b[0;34m)\u001b[0m\u001b[0;34m\u001b[0m\u001b[0m\n\u001b[0;32m---> 48\u001b[0;31m \u001b[0mintersection\u001b[0m\u001b[0;34m(\u001b[0m\u001b[0;34m)\u001b[0m\u001b[0;34m\u001b[0m\u001b[0m\n\u001b[0m\u001b[1;32m     49\u001b[0m \u001b[0;34m\u001b[0m\u001b[0m\n",
      "\u001b[0;32m<ipython-input-159-675393039012>\u001b[0m in \u001b[0;36mintersection\u001b[0;34m()\u001b[0m\n\u001b[1;32m     13\u001b[0m             \u001b[0ms\u001b[0m\u001b[0;34m.\u001b[0m\u001b[0mappend\u001b[0m\u001b[0;34m(\u001b[0m\u001b[0mc\u001b[0m\u001b[0;34m.\u001b[0m\u001b[0mp1\u001b[0m\u001b[0;34m)\u001b[0m \u001b[0;31m# inserta el punto inicial del segmento\u001b[0m\u001b[0;34m\u001b[0m\u001b[0m\n\u001b[1;32m     14\u001b[0m         \u001b[0;32melif\u001b[0m \u001b[0mc\u001b[0m\u001b[0;34m.\u001b[0m\u001b[0mtyp\u001b[0m \u001b[0;34m==\u001b[0m \u001b[0;36m1\u001b[0m\u001b[0;34m:\u001b[0m\u001b[0;34m\u001b[0m\u001b[0m\n\u001b[0;32m---> 15\u001b[0;31m             \u001b[0ms\u001b[0m\u001b[0;34m.\u001b[0m\u001b[0mremove\u001b[0m\u001b[0;34m(\u001b[0m\u001b[0mc\u001b[0m\u001b[0;34m.\u001b[0m\u001b[0mp2\u001b[0m\u001b[0;34m)\u001b[0m\u001b[0;34m;\u001b[0m \u001b[0;31m#quita el punto inicial del segmento\u001b[0m\u001b[0;34m\u001b[0m\u001b[0m\n\u001b[0m\u001b[1;32m     16\u001b[0m         \u001b[0;32melse\u001b[0m\u001b[0;34m:\u001b[0m\u001b[0;34m\u001b[0m\u001b[0m\n\u001b[1;32m     17\u001b[0m             \u001b[0mprint\u001b[0m \u001b[0;34m(\u001b[0m\u001b[0mlen\u001b[0m\u001b[0;34m(\u001b[0m\u001b[0ms\u001b[0m\u001b[0;34m)\u001b[0m\u001b[0;34m)\u001b[0m\u001b[0;34m\u001b[0m\u001b[0m\n",
      "\u001b[0;31mValueError\u001b[0m: list.remove(x): x not in list"
     ]
    }
   ],
   "source": [
    "class event:\n",
    "     def __init__(self, p1, p2, typ):\n",
    "        self.p1 = p1\n",
    "        self.p2 = p2\n",
    "        self.typ = typ\n",
    "\n",
    "\n",
    "\n",
    "def intersection ():\n",
    "    for i in range(e):\n",
    "        c = events[i]\n",
    "        if c.typ == 0:\n",
    "            s.append(c.p1) # inserta el punto inicial del segmento\n",
    "        elif c.typ == 1: \n",
    "            s.remove(c.p2); #quita el punto inicial del segmento\n",
    "        else:\n",
    "            print (len(s))\n",
    "            #for (typeof(s.begin()) it=s.lower_bound(make_pair(c.p1.y,-1));it!=s.end() && it->y<=c.p2.y; it++)\n",
    "            for j in range (len(s)):\n",
    "                print(events[i].p1.x,\",\", s[j].y);\n",
    "\n",
    "events = []\n",
    "e=0\n",
    "s = []\n",
    "p = []\n",
    "\n",
    "p.append(Point(1, 2,'A'))\n",
    "p.append(Point(4, 2,'B'))\n",
    "p.append(Point(2, 1,'C'))\n",
    "p.append(Point(2, 3,'D'))\n",
    "p.append(Point(3, 1,'E'))\n",
    "p.append(Point(3, 3,'F'))\n",
    "\n",
    "\n",
    "for i in range (len(p)-1):\n",
    "   \n",
    "    if p[i].x == p[i+1].x:   # si es una linea vertical, el evento es de tipo = 2          \n",
    "        events.append(event(p[i],p[i+1],2))\n",
    "        e = e+1   \n",
    "    else:  # si es una linea horizontal , son dos enventos, un para el punto inicial y otro para el final                 \n",
    "        events.append(event(p[i],p[i+1],0))\n",
    "        events.append(event(p[i+1],p[i],1))\n",
    "        e=e+1\n",
    "        e=e+1\n",
    "\n",
    "        \n",
    "events = sorted(events, key=lambda ev: ev.p1.x)\n",
    "intersection()\n",
    "\n"
   ]
  },
  {
   "cell_type": "code",
   "execution_count": null,
   "metadata": {
    "collapsed": true
   },
   "outputs": [],
   "source": []
  },
  {
   "cell_type": "code",
   "execution_count": null,
   "metadata": {
    "collapsed": true
   },
   "outputs": [],
   "source": [
    "\n"
   ]
  },
  {
   "cell_type": "code",
   "execution_count": null,
   "metadata": {
    "collapsed": true
   },
   "outputs": [],
   "source": []
  }
 ],
 "metadata": {
  "kernelspec": {
   "display_name": "Python 3",
   "language": "python",
   "name": "python3"
  },
  "language_info": {
   "codemirror_mode": {
    "name": "ipython",
    "version": 3
   },
   "file_extension": ".py",
   "mimetype": "text/x-python",
   "name": "python",
   "nbconvert_exporter": "python",
   "pygments_lexer": "ipython3",
   "version": "3.6.0"
  }
 },
 "nbformat": 4,
 "nbformat_minor": 2
}
