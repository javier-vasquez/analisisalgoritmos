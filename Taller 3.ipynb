{
 "cells": [
  {
   "cell_type": "code",
   "execution_count": 16,
   "metadata": {
    "collapsed": false
   },
   "outputs": [],
   "source": [
    "def my_range(start,end,step):\n",
    "        while start <= end:\n",
    "            yield start\n",
    "            start += step \n",
    "\n",
    "def sumamax3(A, prim, ult):\n",
    "    #var mitad, i, max_izq, max_der, suma, max_aux\n",
    "    if prim>ult:\n",
    "        return 0\n",
    "    if prim==ult:\n",
    "        return max2(0,A[prim])\n",
    "    mitad=(prima+ult)/2\n",
    "    max_aux=max2(sumamax3(A,prim,mitad),sumamax3(A,mitad+1,ult))\n",
    "    max_izq=0\n",
    "    suma=0\n",
    "    \n",
    "    for x in my_range(mitad,prim,-1):\n",
    "        suma=suma+A[x]\n",
    "        max_izq=max2(max_izq,suma)\n",
    "    max_der=0\n",
    "    suma=0\n",
    "    for x in range(mitad+1, ult):\n",
    "        suma=suma+A[x]\n",
    "        max_der=max2(max_der,suma)\n",
    "    return max2(max_der+max_izq,max_aux)\n",
    "    \n",
    "        \n",
    "    "
   ]
  },
  {
   "cell_type": "code",
   "execution_count": 24,
   "metadata": {
    "collapsed": true
   },
   "outputs": [],
   "source": [
    "import datetime, random, sys"
   ]
  },
  {
   "cell_type": "code",
   "execution_count": 36,
   "metadata": {
    "collapsed": false
   },
   "outputs": [],
   "source": [
    "def BruteForce (A):\n",
    "    max_sum=-99999999999\n",
    "    max_sum=-1\n",
    "    max_h=-1\n",
    "    for l in range(len(A)):\n",
    "         for h in range (l, len(A)):\n",
    "                s_sum=0\n",
    "                for k in range(l,h+1):\n",
    "                    s_sum=s_sum+A[k]\n",
    "                if s_sum>max_sum:\n",
    "                    max_sum=s_sum\n",
    "    #print (max_sum);\n",
    "\n",
    "##-----------------------------------------------------------------------------------------\n",
    "def derivate (data):\n",
    "    d = []\n",
    "    for i in range( 1,len( data ) ):\n",
    "        d.append(data[i]-data[i-1])\n",
    "    return data\n",
    "##-----------------------------------------------------------------------------------------\n",
    "def main(start_size,end_size,size_step):\n",
    "    for size in range (start_size, end_size, size_step):\n",
    "        data=[]\n",
    "        for i in range(size):\n",
    "            data.append(random.randint(10,500))\n",
    "\n",
    "        \n",
    "        d=derivate(data)\n",
    "        start_time=datetime.datetime.now()\n",
    "        BruteForce(d)\n",
    "        end_time=datetime.datetime.now()\n",
    "        total_time=end_time-start_time\n",
    "\n",
    "        print (total_time);"
   ]
  },
  {
   "cell_type": "code",
   "execution_count": 37,
   "metadata": {
    "collapsed": false
   },
   "outputs": [
    {
     "name": "stdout",
     "output_type": "stream",
     "text": [
      "0:00:00.000008\n",
      "0:00:00.000013\n",
      "0:00:00.000020\n",
      "0:00:00.000016\n",
      "0:00:00.000033\n",
      "0:00:00.000044\n",
      "0:00:00.000055\n",
      "0:00:00.000066\n",
      "0:00:00.000183\n",
      "0:00:00.000089\n",
      "0:00:00.000111\n",
      "0:00:00.000077\n",
      "0:00:00.000112\n",
      "0:00:00.000145\n",
      "0:00:00.000122\n",
      "0:00:00.000142\n",
      "0:00:00.000162\n",
      "0:00:00.000184\n",
      "0:00:00.000213\n",
      "0:00:00.000233\n",
      "0:00:00.000255\n",
      "0:00:00.000285\n",
      "0:00:00.000318\n",
      "0:00:00.000350\n",
      "0:00:00.000476\n",
      "0:00:00.000426\n",
      "0:00:00.000878\n",
      "0:00:00.000904\n",
      "0:00:00.001279\n"
     ]
    }
   ],
   "source": [
    "main(1,30,1)"
   ]
  },
  {
   "cell_type": "code",
   "execution_count": 59,
   "metadata": {
    "collapsed": false
   },
   "outputs": [],
   "source": [
    "import datetime, random, sys, math\n",
    "##-----------------------------------------------------------------------------------------\n",
    "def findMaxCrossSubArray(A ,prim , m, ult):\n",
    "    vl=-9999999999\n",
    "    s=0\n",
    "    ml=-1\n",
    "    for i in range(m,prim,-1):\n",
    "        s=s+A[i]\n",
    "        if s>vl:\n",
    "            vl=s\n",
    "            ml=i\n",
    "    vr=-99999999999\n",
    "    s=0\n",
    "    for i in range(m,ult):\n",
    "        s=s+A[i]\n",
    "        if s>vr:\n",
    "            vr=s\n",
    "            mr=i\n",
    "    return [ml,mr,vl+vr]\n",
    "##-----------------------------------------------------------------------------------------\n",
    "def findMaxSubArray (A ,prim , ult):\n",
    "    if prim<=ult:\n",
    "        return (prim,ult,A[prim])\n",
    "    else:\n",
    "        m=int(math.floor((prim+ult)/2))\n",
    "        [ll,lh,ls] =findMaxSubArray (A,prim,m)\n",
    "        [rl,rh,rs] =findMaxSubArray (A,m+1,ult)\n",
    "        [cl,ch,cs] =findMaxCrossSubArray (A,ll,lh,ls)\n",
    "        if ls>=rs and rs>=cs:\n",
    "            return [ll,lh,ls]\n",
    "        elif rs>=ls and re>=cs:\n",
    "            return [rl,rh,rs]\n",
    "        else:\n",
    "            return [cl,ch,cs]\n",
    "##-----------------------------------------------------------------------------------------\n",
    "def derivate (data):\n",
    "    d = []\n",
    "    for i in range( 1,len( data ) ):\n",
    "        d.append(data[i]-data[i-1])\n",
    "    return data\n",
    "##-----------------------------------------------------------------------------------------\n",
    "def main2(start_size,end_size,size_step):\n",
    "\n",
    "    for size in range (start_size, end_size, size_step):\n",
    "        data=[]\n",
    "        for i in range(size):\n",
    "            data.append(random.randint(10,500))\n",
    "\n",
    "        start_time=datetime.datetime.now()\n",
    "        d=derivate(data)\n",
    "        findMaxSubArray(d,0,len(d)-1)\n",
    "        end_time=datetime.datetime.now()\n",
    "        total_time=end_time-start_time\n",
    "\n",
    "        print (total_time)"
   ]
  },
  {
   "cell_type": "code",
   "execution_count": 60,
   "metadata": {
    "collapsed": false
   },
   "outputs": [
    {
     "name": "stdout",
     "output_type": "stream",
     "text": [
      "0:00:00.000008\n",
      "0:00:00.000012\n",
      "0:00:00.000012\n",
      "0:00:00.000009\n",
      "0:00:00.000010\n",
      "0:00:00.000011\n",
      "0:00:00.000010\n",
      "0:00:00.000012\n",
      "0:00:00.000009\n",
      "0:00:00.000008\n",
      "0:00:00.000009\n",
      "0:00:00.000008\n",
      "0:00:00.000008\n",
      "0:00:00.000008\n",
      "0:00:00.000008\n",
      "0:00:00.000016\n",
      "0:00:00.000009\n",
      "0:00:00.000010\n",
      "0:00:00.000010\n",
      "0:00:00.000010\n",
      "0:00:00.000010\n",
      "0:00:00.000011\n",
      "0:00:00.000010\n",
      "0:00:00.000010\n",
      "0:00:00.000011\n",
      "0:00:00.000010\n",
      "0:00:00.000011\n",
      "0:00:00.000012\n",
      "0:00:00.000011\n",
      "0:00:00.000012\n",
      "0:00:00.000012\n",
      "0:00:00.000012\n",
      "0:00:00.000013\n",
      "0:00:00.000012\n",
      "0:00:00.000013\n",
      "0:00:00.000013\n",
      "0:00:00.000013\n",
      "0:00:00.000014\n",
      "0:00:00.000014\n"
     ]
    }
   ],
   "source": [
    "main2(1,40,1)"
   ]
  },
  {
   "cell_type": "code",
   "execution_count": null,
   "metadata": {
    "collapsed": true
   },
   "outputs": [],
   "source": []
  },
  {
   "cell_type": "code",
   "execution_count": null,
   "metadata": {
    "collapsed": true
   },
   "outputs": [],
   "source": []
  }
 ],
 "metadata": {
  "kernelspec": {
   "display_name": "Python 3",
   "language": "python",
   "name": "python3"
  },
  "language_info": {
   "codemirror_mode": {
    "name": "ipython",
    "version": 3
   },
   "file_extension": ".py",
   "mimetype": "text/x-python",
   "name": "python",
   "nbconvert_exporter": "python",
   "pygments_lexer": "ipython3",
   "version": "3.6.0"
  }
 },
 "nbformat": 4,
 "nbformat_minor": 2
}
