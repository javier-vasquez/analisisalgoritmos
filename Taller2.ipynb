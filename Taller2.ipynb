{
 "cells": [
  {
   "cell_type": "code",
   "execution_count": 1,
   "metadata": {
    "collapsed": true
   },
   "outputs": [],
   "source": [
    "import math\n",
    "import numpy as np\n",
    "import pylab as pl\n",
    "%matplotlib inline"
   ]
  },
  {
   "cell_type": "code",
   "execution_count": 42,
   "metadata": {
    "collapsed": false
   },
   "outputs": [],
   "source": [
    "def matrix_mult(A, B):\n",
    "    R=np.zeros((len(A), len(A)))\n",
    "    for i in xrange(0, len(A)):\n",
    "        for j in xrange(0, len(A)):\n",
    "            for k in xrange(0, len(A)):\n",
    "                R[i][j]+=A[i][k]*B[k][j]\n",
    "    return R"
   ]
  },
  {
   "cell_type": "code",
   "execution_count": 43,
   "metadata": {
    "collapsed": false
   },
   "outputs": [
    {
     "name": "stdout",
     "output_type": "stream",
     "text": [
      "[[1 2 3]\n",
      " [4 5 6]\n",
      " [7 8 9]]\n",
      "[[1 2 3]\n",
      " [4 5 6]\n",
      " [7 8 9]]\n",
      "[[  30.   36.   42.]\n",
      " [  66.   81.   96.]\n",
      " [ 102.  126.  150.]]\n"
     ]
    }
   ],
   "source": [
    "A=np.array([[1, 2, 3], [4, 5, 6], [7, 8, 9]]);\n",
    "B=np.array([[1, 2, 3], [4, 5, 6], [7, 8, 9]]);\n",
    "print A;\n",
    "print B;\n",
    "print matrix_mult(A, B);"
   ]
  },
  {
   "cell_type": "code",
   "execution_count": 4,
   "metadata": {
    "collapsed": false
   },
   "outputs": [],
   "source": [
    "class Counter:\n",
    "    '''\n",
    "    Class Counter\n",
    "    Implements a step counter, which is used to compute the number of basic operations performed in\n",
    "    a particular call to a function.\n",
    "    '''\n",
    "    def __init__(self):\n",
    "        self.steps = 0\n",
    "\n",
    "    def reset(self):\n",
    "        self.steps = 0\n",
    "\n",
    "    def count(self):\n",
    "        self.steps += 1\n",
    "\n",
    "    def print_steps(self):\n",
    "        print \"Number of steps =\", self.steps\n",
    "        \n",
    "def matrix_mult_count(A, B, acct):\n",
    "    R=np.zeros((len(A), len(A)));acct.count()\n",
    "    for i in xrange(0, len(A)):\n",
    "        for j in xrange(0, len(A)):\n",
    "            for k in xrange(0, len(A)):\n",
    "                R[i][j]+=A[i][k]*B[k][j];acct.count()"
   ]
  },
  {
   "cell_type": "code",
   "execution_count": 5,
   "metadata": {
    "collapsed": false
   },
   "outputs": [
    {
     "name": "stdout",
     "output_type": "stream",
     "text": [
      "Number of steps = 8001\n"
     ]
    }
   ],
   "source": [
    "A = np.random.rand(20,20)\n",
    "B = np.random.rand(20,20)\n",
    "acct = Counter()\n",
    "matrix_mult_count(A, B, acct)\n",
    "acct.print_steps()"
   ]
  },
  {
   "cell_type": "code",
   "execution_count": 6,
   "metadata": {
    "collapsed": true
   },
   "outputs": [],
   "source": [
    "import random as rnd\n",
    "\n",
    "def exper_analysis(n):\n",
    "    results = []\n",
    "    acct = Counter()\n",
    "    for i in range(1,n+1):\n",
    "        A = np.random.rand(i,i)\n",
    "        B = np.random.rand(i,i)\n",
    "        acct.reset()\n",
    "        matrix_mult_count(A, B, acct)\n",
    "        results.append(acct.steps)\n",
    "    return results"
   ]
  },
  {
   "cell_type": "code",
   "execution_count": 7,
   "metadata": {
    "collapsed": false
   },
   "outputs": [
    {
     "name": "stdout",
     "output_type": "stream",
     "text": [
      "[2, 9, 28, 65, 126, 217, 344, 513, 730, 1001]\n"
     ]
    }
   ],
   "source": [
    "print exper_analysis(10)"
   ]
  },
  {
   "cell_type": "code",
   "execution_count": 8,
   "metadata": {
    "collapsed": false,
    "scrolled": true
   },
   "outputs": [
    {
     "data": {
      "text/plain": [
       "[<matplotlib.lines.Line2D at 0x76e2518>]"
      ]
     },
     "execution_count": 8,
     "metadata": {},
     "output_type": "execute_result"
    },
    {
     "data": {
      "image/png": "[encoded data removed]",
      "text/plain": [
       "<matplotlib.figure.Figure at 0x774bf60>"
      ]
     },
     "metadata": {},
     "output_type": "display_data"
    }
   ],
   "source": [
    "pl.clf()\n",
    "x = np.arange(50)\n",
    "y = np.array(exper_analysis(50))\n",
    "pl.plot(x, y, 'k.')"
   ]
  },
  {
   "cell_type": "code",
   "execution_count": 44,
   "metadata": {
    "collapsed": false
   },
   "outputs": [],
   "source": [
    "def matrix_mult_2(A, B):\n",
    "    if len(A)<=2:\n",
    "        return matrix_mult(A,B);\n",
    "    else:\n",
    "        A1= A[0:(len(A)/2),0:(len(A)/2)];# Cuadrante 1 de A\n",
    "        B1= B[0:(len(B)/2),0:(len(B)/2)];# Cuadrante 1 de B\n",
    "        A2= A[0:(len(A)/2),len(A)/2:len(A)];# Cuadrante 2 de A\n",
    "        B2= B[0:(len(B)/2),len(B)/2:len(B)];# Cuadrante 2 de B\n",
    "        A3= A[(len(A)/2):(len(A)),0:(len(A)/2)];# Cuadrante 3 de A\n",
    "        B3= B[(len(B)/2):len(B),0:(len(B)/2)];# Cuadrante 3 de B\n",
    "        A4= A[(len(A)/2):(len(A)),(len(A)/2):len(A)];# Cuadrante 4 de A\n",
    "        B4= B[(len(B)/2):len(B),(len(A)/2):len(A)];# Cuadrante 4 de B\n",
    "        A11=matrix_mult_2(A1, B1);\n",
    "        A22=matrix_mult_2(A2, B2);\n",
    "        A33=matrix_mult_2(A3, B3);\n",
    "        A44=matrix_mult_2(A4, B4);\n",
    "        \n",
    "        A1122=np.concatenate((A11, A22), axis=1);\n",
    "        A3344=np.concatenate((A33, A44), axis=1);\n",
    "        A11223344=np.concatenate((A1122, A3344), axis=0);\n",
    "        print A11223344;\n",
    "        return A11223344\n",
    "    \n",
    "    \n",
    "  "
   ]
  },
  {
   "cell_type": "code",
   "execution_count": 45,
   "metadata": {
    "collapsed": false
   },
   "outputs": [
    {
     "name": "stdout",
     "output_type": "stream",
     "text": [
      "[[1 7 1 3]\n",
      " [4 5 6 8]\n",
      " [6 8 9 0]\n",
      " [5 6 9 8]]\n",
      "[[1 2 8 4]\n",
      " [4 6 1 7]\n",
      " [8 8 9 0]\n",
      " [2 4 5 6]]\n",
      "[[  29.   44.   11.   25.]\n",
      " [  24.   38.   56.   80.]\n",
      " [  64.   80.   81.    0.]\n",
      " [  52.   64.  121.   48.]]\n"
     ]
    },
    {
     "data": {
      "text/plain": [
       "array([[  29.,   44.,   11.,   25.],\n",
       "       [  24.,   38.,   56.,   80.],\n",
       "       [  64.,   80.,   81.,    0.],\n",
       "       [  52.,   64.,  121.,   48.]])"
      ]
     },
     "execution_count": 45,
     "metadata": {},
     "output_type": "execute_result"
    }
   ],
   "source": [
    "A=np.array([[1, 7, 1, 3], [4, 5, 6, 8], [6, 8, 9 ,0], [5, 6, 9 ,8]]);\n",
    "B=np.array([[1, 2, 8, 4], [4, 6, 1, 7], [8, 8, 9, 0], [2, 4, 5 ,6]]);\n",
    "print A;\n",
    "print B;\n",
    "matrix_mult_2(A, B)"
   ]
  },
  {
   "cell_type": "code",
   "execution_count": null,
   "metadata": {
    "collapsed": true
   },
   "outputs": [],
   "source": []
  }
 ],
 "metadata": {
  "anaconda-cloud": {},
  "kernelspec": {
   "display_name": "Python [conda root]",
   "language": "python",
   "name": "conda-root-py"
  },
  "language_info": {
   "codemirror_mode": {
    "name": "ipython",
    "version": 2
   },
   "file_extension": ".py",
   "mimetype": "text/x-python",
   "name": "python",
   "nbconvert_exporter": "python",
   "pygments_lexer": "ipython2",
   "version": "2.7.12"
  }
 },
 "nbformat": 4,
 "nbformat_minor": 1
}
