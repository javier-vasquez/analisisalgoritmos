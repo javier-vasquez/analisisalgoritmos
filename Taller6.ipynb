{
 "cells": [
  {
   "cell_type": "markdown",
   "metadata": {},
   "source": [
    "# TALLER 6"
   ]
  },
  {
   "cell_type": "code",
   "execution_count": null,
   "metadata": {
    "collapsed": true
   },
   "outputs": [],
   "source": []
  },
  {
   "cell_type": "code",
   "execution_count": 1,
   "metadata": {
    "collapsed": true
   },
   "outputs": [],
   "source": [
    "import random\n",
    "import numpy as np\n",
    "from heapq import heappush, heappop\n",
    "\n",
    "\n",
    "def grafo(ohm, n, minw, maxw):\n",
    "    G = {};\n",
    "    mat = np.ones((n , n) ) * float('inf')\n",
    "    for i in range(n):\n",
    "        x = {};\n",
    "        for j in range(n):\n",
    "            if i > j:\n",
    "                a = random.randrange(0.0,100.0)\n",
    "                b = a/100.0\n",
    "                if(b > ohm):\n",
    "                    peso = random.randrange(minw,maxw)\n",
    "                    x[str(j)] = peso;\n",
    "                    mat[i,j] = peso;\n",
    "            else:\n",
    "                mat[i,j] = 0;\n",
    "        G[str(i)] = x;\n",
    "    return G, mat\n",
    "    \n",
    "    \n",
    "    print (grafo ( 0.5 , 5 , 5 , 10 ))\n",
    "\n",
    "    "
   ]
  },
  {
   "cell_type": "code",
   "execution_count": 2,
   "metadata": {
    "collapsed": true
   },
   "outputs": [],
   "source": [
    "def updateheap(heap,d,v):\n",
    "    for i in range(len(heap)):\n",
    "        if heap[i][1] == v:\n",
    "            heap[i][0] = d\n",
    "            fix_minheap(heap,i)       \n",
    "            break    \n",
    "\n",
    "def fix_minheap(heap, i):\n",
    "    if i == 0: return  \n",
    "    p = int(i/2) \n",
    "    if p >= 0 and heap[p][0] > heap[i][0]:\n",
    "        heap[i], heap[p] = heap[p], heap[i]\n",
    "        fix_minheap(heap,p)   \n",
    "            "
   ]
  },
  {
   "cell_type": "code",
   "execution_count": 3,
   "metadata": {
    "collapsed": true
   },
   "outputs": [],
   "source": [
    "def Dijkstra(G,start):  \n",
    "    D = {} \n",
    "    for v in G:\n",
    "        D[v] = float('inf')\n",
    "    D[start] = 0\n",
    "    P = {}\n",
    "    Q=[] \n",
    "    for v in G:\n",
    "        item = []\n",
    "        item.append(D[v])\n",
    "        item.append(v)\n",
    "        heappush(Q,item)\n",
    "    \n",
    "    while Q:\n",
    "        u = heappop(Q)[1]\n",
    "        for v in G[u]:\n",
    "            newDuv = D[u] + G[u][v]\n",
    "            if newDuv < D[v]:\n",
    "                P[v] = u\n",
    "                D[v] = newDuv\n",
    "                updateheap(Q,D[v],v)\n",
    "    return D,P"
   ]
  },
  {
   "cell_type": "code",
   "execution_count": 4,
   "metadata": {
    "collapsed": true
   },
   "outputs": [],
   "source": [
    "def DijkstraGrafos(G):\n",
    "    resultado={}\n",
    "    for i in G:\n",
    "        resultado[i]=Dijkstra(G,i)\n",
    "    return resultado"
   ]
  },
  {
   "cell_type": "code",
   "execution_count": 5,
   "metadata": {
    "collapsed": false
   },
   "outputs": [
    {
     "name": "stdout",
     "output_type": "stream",
     "text": [
      "{'s': ({'s': 0, 'u': 8, 'v': 9, 'x': 5, 'y': 7}, {'u': 'x', 'x': 's', 'v': 'u', 'y': 'x'}), 'u': ({'s': 11, 'u': 0, 'v': 1, 'x': 2, 'y': 4}, {'v': 'u', 'x': 'u', 'y': 'x', 's': 'y'}), 'v': ({'s': 11, 'u': 19, 'v': 0, 'x': 16, 'y': 4}, {'y': 'v', 's': 'y', 'u': 'x', 'x': 's'}), 'x': ({'s': 9, 'u': 3, 'v': 4, 'x': 0, 'y': 2}, {'u': 'x', 'v': 'u', 'y': 'x', 's': 'y'}), 'y': ({'s': 7, 'u': 15, 'v': 6, 'x': 12, 'y': 0}, {'s': 'y', 'v': 'y', 'u': 'x', 'x': 's'})}\n"
     ]
    }
   ],
   "source": [
    "G = {'s': {'u':10, 'x':5},\n",
    "    'u': {'v':1, 'x':2},\n",
    "    'v': {'y':4},\n",
    "    'x':{'u':3,'v':9,'y':2},\n",
    "    'y':{'s':7,'v':6}}\n",
    "\n",
    "print(DijkstraGrafos(G))"
   ]
  },
  {
   "cell_type": "code",
   "execution_count": 6,
   "metadata": {
    "collapsed": false
   },
   "outputs": [],
   "source": [
    "def BellmanFord(G,start):\n",
    "    \n",
    "    D = {}\n",
    "    for v in G:\n",
    "        D[v] = float('inf')\n",
    "    D[start] = 0\n",
    "    \n",
    "    P = {}\n",
    "    \n",
    "    for i in range(len(G)-1):\n",
    "        for u in G:\n",
    "            for v in G[u]:   \n",
    "                newDv = D[u] + G[u][v]\n",
    "                if newDv < D[v]:\n",
    "                    P[v] = u\n",
    "                    D[v] = newDv\n",
    "    \n",
    "    for u in G:\n",
    "        for v in G[u]:   \n",
    "            newDv = D[u] + G[u][v]\n",
    "            if newDv < D[v]: print(\"Negative cicle\",u,v)\n",
    "                \n",
    "    return D,P"
   ]
  },
  {
   "cell_type": "code",
   "execution_count": 7,
   "metadata": {
    "collapsed": false
   },
   "outputs": [],
   "source": [
    "def BellmanFordGrafos(G):\n",
    "    \n",
    "    T={};\n",
    "    for n in G:\n",
    "        D,P = BellmanFord(G, n);\n",
    "        T[n] = D;\n",
    "    return T;"
   ]
  },
  {
   "cell_type": "code",
   "execution_count": null,
   "metadata": {
    "collapsed": true
   },
   "outputs": [],
   "source": []
  }
 ],
 "metadata": {
  "kernelspec": {
   "display_name": "Python 3",
   "language": "python",
   "name": "python3"
  },
  "language_info": {
   "codemirror_mode": {
    "name": "ipython",
    "version": 3
   },
   "file_extension": ".py",
   "mimetype": "text/x-python",
   "name": "python",
   "nbconvert_exporter": "python",
   "pygments_lexer": "ipython3",
   "version": "3.6.0"
  }
 },
 "nbformat": 4,
 "nbformat_minor": 1
}
